{
 "cells": [
  {
   "cell_type": "code",
   "execution_count": 1,
   "metadata": {
    "collapsed": false
   },
   "outputs": [],
   "source": [
    "from pyomo.environ import *\n",
    "import os\n",
    "models = []\n",
    "for i in range(3):\n",
    "    x = AbstractModel()\n",
    "    models.append(x)\n",
    "solverexe = \"gurobi\"\n",
    "dirsolver = r\"C:\\Users\\ch9fod\\Documents\\GitHub\\ED\\solvers\"\n",
    "datafile = \"data1.dat\""
   ]
  },
  {
   "cell_type": "code",
   "execution_count": 2,
   "metadata": {
    "collapsed": false
   },
   "outputs": [],
   "source": [
    "#set\n",
    "for i in range(3):\n",
    "    models[i].G = Set()"
   ]
  },
  {
   "cell_type": "code",
   "execution_count": 3,
   "metadata": {
    "collapsed": true
   },
   "outputs": [],
   "source": [
    "#parameters\n",
    "for i in range(3):\n",
    "    models[i].a = Param(models[i].G)\n",
    "    models[i].b = Param(models[i].G)\n",
    "    models[i].Pmin = Param(models[i].G)\n",
    "    models[i].Pmax = Param(models[i].G)\n",
    "    models[i].d = Param(models[i].G)\n",
    "    models[i].e = Param(models[i].G)\n",
    "    models[i].f = Param(models[i].G)\n",
    "    #lone parameter\n",
    "    models[i].D = Param()"
   ]
  },
  {
   "cell_type": "code",
   "execution_count": 4,
   "metadata": {
    "collapsed": true
   },
   "outputs": [],
   "source": [
    "#variables\n",
    "for i in range(3):\n",
    "    models[i].P = Var(models[i].G)"
   ]
  },
  {
   "cell_type": "code",
   "execution_count": 5,
   "metadata": {
    "collapsed": false
   },
   "outputs": [],
   "source": [
    "#constraints\n",
    "def maxp1(models,i):\n",
    "    return models[1].P[i] <= models[1].Pmax[i]\n",
    "models[1].maxprod = Constraint(models[1].G, rule = maxp1)\n",
    "\n",
    "def maxp2(models,i):\n",
    "    return models[2].P[i] <= models[2].Pmax[i]\n",
    "models[2].maxprod = Constraint(models[2].G, rule = maxp2)\n",
    "\n",
    "def minp1(models,i):\n",
    "    return models[1].P[i] >= models[1].Pmin[i]\n",
    "models[1].minprod = Constraint(models[1].G, rule = minp1)\n",
    "\n",
    "def minp2(models,i):\n",
    "    return models[2].P[i] >= models[2].Pmin[i]\n",
    "models[2].minprod = Constraint(models[2].G, rule = minp2)\n",
    "\n",
    "def demand_r0(models,i):\n",
    "    return models[0].D == sum(models[0].P[i] for i in models[0].G)\n",
    "models[0].demand = Constraint(models[0].G, rule = demand_r0)\n",
    "\n",
    "def demand_r1(models,i):\n",
    "    return models[1].D == sum(models[1].P[i] for i in models[1].G)\n",
    "models[1].demand = Constraint(models[1].G, rule = demand_r1)\n",
    "\n",
    "def demand_r2(models,i):\n",
    "    return models[2].D == sum(models[2].P[i] for i in models[2].G)\n",
    "models[2].demand = Constraint(models[2].G, rule = demand_r2)"
   ]
  },
  {
   "cell_type": "code",
   "execution_count": 6,
   "metadata": {
    "collapsed": true
   },
   "outputs": [],
   "source": [
    "#objective\n",
    "def cost_rule0(models):\n",
    "    return sum(models[0].a[i]*models[0].P[i] + \n",
    "               0.5*models[0].b[i]*models[0].P[i]**2 for i in models[0].G)\n",
    "#default is to minimize        \n",
    "models[0].OBJ = Objective(rule=cost_rule0) \n",
    "\n",
    "#objective\n",
    "def cost_rule1(models):\n",
    "    return sum(models[1].a[i]*models[1].P[i] + \n",
    "               0.5*models[1].b[i]*models[1].P[i]**2 for i in models[1].G)\n",
    "#default is to minimize        \n",
    "models[1].OBJ = Objective(rule=cost_rule1) \n",
    "\n",
    "#objective\n",
    "def cost_rule2(models):\n",
    "    return sum(models[2].a[i]*models[2].P[i] + \n",
    "               0.5*models[2].b[i]*models[2].P[i]**2 + \n",
    "               10*models[2].d[i] + 10*models[2].e[i]*models[2].P[i] + \n",
    "               10*models[2].f[i]*models[2].P[i]**2 for i in models[2].G)\n",
    "#default is to minimize        \n",
    "models[2].OBJ = Objective(rule=cost_rule2) "
   ]
  },
  {
   "cell_type": "code",
   "execution_count": 8,
   "metadata": {
    "collapsed": false
   },
   "outputs": [
    {
     "name": "stdout",
     "output_type": "stream",
     "text": [
      "ERROR: Rule failed when generating expression for constraint maxprod with index 1:\n",
      "\tValueError: Error retrieving component unknown: The component has not been constructed.\n",
      "ERROR: Constructing component 'maxprod' from data=None failed:\n",
      "\tValueError: Error retrieving component unknown: The component has not been constructed.\n"
     ]
    },
    {
     "ename": "ValueError",
     "evalue": "Error retrieving component unknown: The component has not been constructed.",
     "output_type": "error",
     "traceback": [
      "\u001b[0;31m---------------------------------------------------------------------------\u001b[0m",
      "\u001b[0;31mValueError\u001b[0m                                Traceback (most recent call last)",
      "\u001b[0;32m<ipython-input-8-baf6f08722a2>\u001b[0m in \u001b[0;36m<module>\u001b[0;34m()\u001b[0m\n\u001b[1;32m      4\u001b[0m \u001b[1;32mfor\u001b[0m \u001b[0mi\u001b[0m \u001b[1;32min\u001b[0m \u001b[0mrange\u001b[0m\u001b[1;33m(\u001b[0m\u001b[1;36m3\u001b[0m\u001b[1;33m)\u001b[0m\u001b[1;33m:\u001b[0m\u001b[1;33m\u001b[0m\u001b[0m\n\u001b[1;32m      5\u001b[0m     \u001b[0msolver\u001b[0m\u001b[1;33m.\u001b[0m\u001b[0mappend\u001b[0m\u001b[1;33m(\u001b[0m\u001b[0mSolverFactory\u001b[0m\u001b[1;33m(\u001b[0m\u001b[0msolverexe\u001b[0m\u001b[1;33m)\u001b[0m\u001b[1;33m)\u001b[0m\u001b[1;33m\u001b[0m\u001b[0m\n\u001b[0;32m----> 6\u001b[0;31m \u001b[0minstance\u001b[0m\u001b[1;33m.\u001b[0m\u001b[0mappend\u001b[0m\u001b[1;33m(\u001b[0m\u001b[0mmodels\u001b[0m\u001b[1;33m[\u001b[0m\u001b[1;36m1\u001b[0m\u001b[1;33m]\u001b[0m\u001b[1;33m.\u001b[0m\u001b[0mcreate_instance\u001b[0m\u001b[1;33m(\u001b[0m\u001b[0mdatafile\u001b[0m\u001b[1;33m)\u001b[0m\u001b[1;33m)\u001b[0m\u001b[1;33m\u001b[0m\u001b[0m\n\u001b[0m\u001b[1;32m      7\u001b[0m \u001b[1;33m\u001b[0m\u001b[0m\n\u001b[1;32m      8\u001b[0m \u001b[1;31m# instance = model.create_instance(datafile)\u001b[0m\u001b[1;33m\u001b[0m\u001b[1;33m\u001b[0m\u001b[0m\n",
      "\u001b[0;32mC:\\Users\\ch9fod\\Miniconda3\\envs\\ED\\lib\\site-packages\\pyomo\\core\\base\\PyomoModel.py\u001b[0m in \u001b[0;36mcreate_instance\u001b[0;34m(self, filename, data, name, namespace, namespaces, profile_memory, report_timing, **kwds)\u001b[0m\n\u001b[1;32m    698\u001b[0m                        \u001b[0mnamespaces\u001b[0m\u001b[1;33m=\u001b[0m\u001b[0m_namespaces\u001b[0m\u001b[1;33m,\u001b[0m\u001b[1;33m\u001b[0m\u001b[0m\n\u001b[1;32m    699\u001b[0m                        \u001b[0mprofile_memory\u001b[0m\u001b[1;33m=\u001b[0m\u001b[0mprofile_memory\u001b[0m\u001b[1;33m,\u001b[0m\u001b[1;33m\u001b[0m\u001b[0m\n\u001b[0;32m--> 700\u001b[0;31m                        report_timing=report_timing )\n\u001b[0m\u001b[1;32m    701\u001b[0m \u001b[1;33m\u001b[0m\u001b[0m\n\u001b[1;32m    702\u001b[0m         \u001b[1;31m#\u001b[0m\u001b[1;33m\u001b[0m\u001b[1;33m\u001b[0m\u001b[0m\n",
      "\u001b[0;32mC:\\Users\\ch9fod\\Miniconda3\\envs\\ED\\lib\\site-packages\\pyomo\\core\\base\\PyomoModel.py\u001b[0m in \u001b[0;36mload\u001b[0;34m(self, arg, namespaces, profile_memory, report_timing)\u001b[0m\n\u001b[1;32m    775\u001b[0m                               \u001b[0mnamespaces\u001b[0m\u001b[1;33m,\u001b[0m\u001b[1;33m\u001b[0m\u001b[0m\n\u001b[1;32m    776\u001b[0m                               \u001b[0mprofile_memory\u001b[0m\u001b[1;33m=\u001b[0m\u001b[0mprofile_memory\u001b[0m\u001b[1;33m,\u001b[0m\u001b[1;33m\u001b[0m\u001b[0m\n\u001b[0;32m--> 777\u001b[0;31m                               report_timing=report_timing)\n\u001b[0m\u001b[1;32m    778\u001b[0m \u001b[1;33m\u001b[0m\u001b[0m\n\u001b[1;32m    779\u001b[0m     \u001b[1;32mdef\u001b[0m \u001b[0m_tuplize\u001b[0m\u001b[1;33m(\u001b[0m\u001b[0mself\u001b[0m\u001b[1;33m,\u001b[0m \u001b[0mdata\u001b[0m\u001b[1;33m,\u001b[0m \u001b[0msetobj\u001b[0m\u001b[1;33m)\u001b[0m\u001b[1;33m:\u001b[0m\u001b[1;33m\u001b[0m\u001b[0m\n",
      "\u001b[0;32mC:\\Users\\ch9fod\\Miniconda3\\envs\\ED\\lib\\site-packages\\pyomo\\core\\base\\PyomoModel.py\u001b[0m in \u001b[0;36m_load_model_data\u001b[0;34m(self, modeldata, namespaces, **kwds)\u001b[0m\n\u001b[1;32m    855\u001b[0m                         )\n\u001b[1;32m    856\u001b[0m \u001b[1;33m\u001b[0m\u001b[0m\n\u001b[0;32m--> 857\u001b[0;31m                 \u001b[0mself\u001b[0m\u001b[1;33m.\u001b[0m\u001b[0m_initialize_component\u001b[0m\u001b[1;33m(\u001b[0m\u001b[0mmodeldata\u001b[0m\u001b[1;33m,\u001b[0m \u001b[0mnamespaces\u001b[0m\u001b[1;33m,\u001b[0m \u001b[0mcomponent_name\u001b[0m\u001b[1;33m,\u001b[0m \u001b[0mprofile_memory\u001b[0m\u001b[1;33m)\u001b[0m\u001b[1;33m\u001b[0m\u001b[0m\n\u001b[0m\u001b[1;32m    858\u001b[0m \u001b[1;33m\u001b[0m\u001b[0m\n\u001b[1;32m    859\u001b[0m                 \u001b[1;32mif\u001b[0m \u001b[0mreport_timing\u001b[0m \u001b[1;32mis\u001b[0m \u001b[1;32mTrue\u001b[0m\u001b[1;33m:\u001b[0m\u001b[1;33m\u001b[0m\u001b[0m\n",
      "\u001b[0;32mC:\\Users\\ch9fod\\Miniconda3\\envs\\ED\\lib\\site-packages\\pyomo\\core\\base\\PyomoModel.py\u001b[0m in \u001b[0;36m_initialize_component\u001b[0;34m(self, modeldata, namespaces, component_name, profile_memory)\u001b[0m\n\u001b[1;32m    918\u001b[0m                           declaration.name, _blockName, str(data) )\n\u001b[1;32m    919\u001b[0m         \u001b[1;32mtry\u001b[0m\u001b[1;33m:\u001b[0m\u001b[1;33m\u001b[0m\u001b[0m\n\u001b[0;32m--> 920\u001b[0;31m             \u001b[0mdeclaration\u001b[0m\u001b[1;33m.\u001b[0m\u001b[0mconstruct\u001b[0m\u001b[1;33m(\u001b[0m\u001b[0mdata\u001b[0m\u001b[1;33m)\u001b[0m\u001b[1;33m\u001b[0m\u001b[0m\n\u001b[0m\u001b[1;32m    921\u001b[0m         \u001b[1;32mexcept\u001b[0m\u001b[1;33m:\u001b[0m\u001b[1;33m\u001b[0m\u001b[0m\n\u001b[1;32m    922\u001b[0m             \u001b[0merr\u001b[0m \u001b[1;33m=\u001b[0m \u001b[0msys\u001b[0m\u001b[1;33m.\u001b[0m\u001b[0mexc_info\u001b[0m\u001b[1;33m(\u001b[0m\u001b[1;33m)\u001b[0m\u001b[1;33m[\u001b[0m\u001b[1;36m1\u001b[0m\u001b[1;33m]\u001b[0m\u001b[1;33m\u001b[0m\u001b[0m\n",
      "\u001b[0;32mC:\\Users\\ch9fod\\Miniconda3\\envs\\ED\\lib\\site-packages\\pyomo\\core\\base\\constraint.py\u001b[0m in \u001b[0;36mconstruct\u001b[0;34m(self, data)\u001b[0m\n\u001b[1;32m    749\u001b[0m                                              \u001b[0m_init_rule\u001b[0m\u001b[1;33m,\u001b[0m\u001b[1;33m\u001b[0m\u001b[0m\n\u001b[1;32m    750\u001b[0m                                              \u001b[0m_self_parent\u001b[0m\u001b[1;33m,\u001b[0m\u001b[1;33m\u001b[0m\u001b[0m\n\u001b[0;32m--> 751\u001b[0;31m                                              ndx)\n\u001b[0m\u001b[1;32m    752\u001b[0m                 \u001b[1;32mexcept\u001b[0m \u001b[0mException\u001b[0m\u001b[1;33m:\u001b[0m\u001b[1;33m\u001b[0m\u001b[0m\n\u001b[1;32m    753\u001b[0m                     \u001b[0merr\u001b[0m \u001b[1;33m=\u001b[0m \u001b[0msys\u001b[0m\u001b[1;33m.\u001b[0m\u001b[0mexc_info\u001b[0m\u001b[1;33m(\u001b[0m\u001b[1;33m)\u001b[0m\u001b[1;33m[\u001b[0m\u001b[1;36m1\u001b[0m\u001b[1;33m]\u001b[0m\u001b[1;33m\u001b[0m\u001b[0m\n",
      "\u001b[0;32mC:\\Users\\ch9fod\\Miniconda3\\envs\\ED\\lib\\site-packages\\pyomo\\core\\base\\misc.py\u001b[0m in \u001b[0;36mapply_indexed_rule\u001b[0;34m(obj, rule, model, index, options)\u001b[0m\n\u001b[1;32m     58\u001b[0m                 \u001b[1;32mreturn\u001b[0m \u001b[0mrule\u001b[0m\u001b[1;33m(\u001b[0m\u001b[0mmodel\u001b[0m\u001b[1;33m)\u001b[0m\u001b[1;33m\u001b[0m\u001b[0m\n\u001b[1;32m     59\u001b[0m             \u001b[1;32melse\u001b[0m\u001b[1;33m:\u001b[0m\u001b[1;33m\u001b[0m\u001b[0m\n\u001b[0;32m---> 60\u001b[0;31m                 \u001b[1;32mreturn\u001b[0m \u001b[0mrule\u001b[0m\u001b[1;33m(\u001b[0m\u001b[0mmodel\u001b[0m\u001b[1;33m,\u001b[0m \u001b[0mindex\u001b[0m\u001b[1;33m)\u001b[0m\u001b[1;33m\u001b[0m\u001b[0m\n\u001b[0m\u001b[1;32m     61\u001b[0m         \u001b[1;32melse\u001b[0m\u001b[1;33m:\u001b[0m\u001b[1;33m\u001b[0m\u001b[0m\n\u001b[1;32m     62\u001b[0m             \u001b[1;32mif\u001b[0m \u001b[0mindex\u001b[0m\u001b[1;33m.\u001b[0m\u001b[0m__class__\u001b[0m \u001b[1;32mis\u001b[0m \u001b[0mtuple\u001b[0m\u001b[1;33m:\u001b[0m\u001b[1;33m\u001b[0m\u001b[0m\n",
      "\u001b[0;32m<ipython-input-5-924b72dacc14>\u001b[0m in \u001b[0;36mmaxp1\u001b[0;34m(models, i)\u001b[0m\n\u001b[1;32m      1\u001b[0m \u001b[1;31m#constraints\u001b[0m\u001b[1;33m\u001b[0m\u001b[1;33m\u001b[0m\u001b[0m\n\u001b[1;32m      2\u001b[0m \u001b[1;32mdef\u001b[0m \u001b[0mmaxp1\u001b[0m\u001b[1;33m(\u001b[0m\u001b[0mmodels\u001b[0m\u001b[1;33m,\u001b[0m\u001b[0mi\u001b[0m\u001b[1;33m)\u001b[0m\u001b[1;33m:\u001b[0m\u001b[1;33m\u001b[0m\u001b[0m\n\u001b[0;32m----> 3\u001b[0;31m     \u001b[1;32mreturn\u001b[0m \u001b[0mmodels\u001b[0m\u001b[1;33m[\u001b[0m\u001b[1;36m1\u001b[0m\u001b[1;33m]\u001b[0m\u001b[1;33m.\u001b[0m\u001b[0mP\u001b[0m\u001b[1;33m[\u001b[0m\u001b[0mi\u001b[0m\u001b[1;33m]\u001b[0m \u001b[1;33m<=\u001b[0m \u001b[0mmodels\u001b[0m\u001b[1;33m[\u001b[0m\u001b[1;36m1\u001b[0m\u001b[1;33m]\u001b[0m\u001b[1;33m.\u001b[0m\u001b[0mPmax\u001b[0m\u001b[1;33m[\u001b[0m\u001b[0mi\u001b[0m\u001b[1;33m]\u001b[0m\u001b[1;33m\u001b[0m\u001b[0m\n\u001b[0m\u001b[1;32m      4\u001b[0m \u001b[0mmodels\u001b[0m\u001b[1;33m[\u001b[0m\u001b[1;36m1\u001b[0m\u001b[1;33m]\u001b[0m\u001b[1;33m.\u001b[0m\u001b[0mmaxprod\u001b[0m \u001b[1;33m=\u001b[0m \u001b[0mConstraint\u001b[0m\u001b[1;33m(\u001b[0m\u001b[0mmodels\u001b[0m\u001b[1;33m[\u001b[0m\u001b[1;36m1\u001b[0m\u001b[1;33m]\u001b[0m\u001b[1;33m.\u001b[0m\u001b[0mG\u001b[0m\u001b[1;33m,\u001b[0m \u001b[0mrule\u001b[0m \u001b[1;33m=\u001b[0m \u001b[0mmaxp1\u001b[0m\u001b[1;33m)\u001b[0m\u001b[1;33m\u001b[0m\u001b[0m\n\u001b[1;32m      5\u001b[0m \u001b[1;33m\u001b[0m\u001b[0m\n",
      "\u001b[0;32mC:\\Users\\ch9fod\\Miniconda3\\envs\\ED\\lib\\site-packages\\pyomo\\core\\base\\indexed_component.py\u001b[0m in \u001b[0;36m__getitem__\u001b[0;34m(self, ndx)\u001b[0m\n\u001b[1;32m    459\u001b[0m             raise ValueError(\n\u001b[1;32m    460\u001b[0m                 \u001b[1;34m\"Error retrieving component %s%s: The component has \"\u001b[0m\u001b[1;33m\u001b[0m\u001b[0m\n\u001b[0;32m--> 461\u001b[0;31m                 \"not been constructed.\" % ( self.name, idx_str,) )\n\u001b[0m\u001b[1;32m    462\u001b[0m         \u001b[1;32mif\u001b[0m \u001b[0mndx\u001b[0m \u001b[1;32mis\u001b[0m \u001b[1;32mNone\u001b[0m \u001b[1;32mand\u001b[0m \u001b[1;32mnot\u001b[0m \u001b[0mself\u001b[0m\u001b[1;33m.\u001b[0m\u001b[0mis_indexed\u001b[0m\u001b[1;33m(\u001b[0m\u001b[1;33m)\u001b[0m\u001b[1;33m:\u001b[0m\u001b[1;33m\u001b[0m\u001b[0m\n\u001b[1;32m    463\u001b[0m             \u001b[0mself\u001b[0m\u001b[1;33m.\u001b[0m\u001b[0m_data\u001b[0m\u001b[1;33m[\u001b[0m\u001b[0mndx\u001b[0m\u001b[1;33m]\u001b[0m \u001b[1;33m=\u001b[0m \u001b[0mself\u001b[0m  \u001b[1;31m# FIXME: should this be a weakref?!?\u001b[0m\u001b[1;33m\u001b[0m\u001b[0m\n",
      "\u001b[0;31mValueError\u001b[0m: Error retrieving component unknown: The component has not been constructed."
     ]
    }
   ],
   "source": [
    "solver = []\n",
    "instance = []\n",
    "results = []\n",
    "for i in range(3):\n",
    "    solver.append(SolverFactory(solverexe))\n",
    "instance.append(models[1].create_instance(datafile))\n",
    "\n",
    "# instance = model.create_instance(datafile)\n",
    "# instance.dual = Suffix(direction=Suffix.IMPORT)\n",
    "# results = solver.solve(instance)"
   ]
  },
  {
   "cell_type": "code",
   "execution_count": null,
   "metadata": {
    "collapsed": false
   },
   "outputs": [],
   "source": [
    "instance.display()"
   ]
  },
  {
   "cell_type": "code",
   "execution_count": null,
   "metadata": {
    "collapsed": false
   },
   "outputs": [],
   "source": [
    "p = [0, 0, 0 ,0]\n",
    "for i in range(3):\n",
    "    p[i+1] = value(instance.P[i+1])"
   ]
  },
  {
   "cell_type": "code",
   "execution_count": null,
   "metadata": {
    "collapsed": false
   },
   "outputs": [],
   "source": [
    "print (\"Total Emissions (tonCO2/MWh)\")\n",
    "x = y = 0\n",
    "for i in range(3):\n",
    "    y = (instance.d[i+1] + instance.e[i+1]*p[i+1] + \n",
    "        instance.f[i+1]*p[i+1]**2)\n",
    "    x = x + y\n",
    "    print(i+1, y)\n",
    "print(\"Total\",x)"
   ]
  },
  {
   "cell_type": "code",
   "execution_count": null,
   "metadata": {
    "collapsed": false
   },
   "outputs": [],
   "source": [
    "print (\"Duals\")\n",
    "from pyomo.core import Constraint\n",
    "for c in instance.component_objects(Constraint, active=True):\n",
    "    print (\"   Constraint\",c)\n",
    "    cobject = getattr(instance, str(c))\n",
    "    for index in cobject:\n",
    "        print (\"      \", index, instance.dual[cobject[index]])"
   ]
  }
 ],
 "metadata": {
  "kernelspec": {
   "display_name": "Python 3",
   "language": "python",
   "name": "python3"
  },
  "language_info": {
   "codemirror_mode": {
    "name": "ipython",
    "version": 3
   },
   "file_extension": ".py",
   "mimetype": "text/x-python",
   "name": "python",
   "nbconvert_exporter": "python",
   "pygments_lexer": "ipython3",
   "version": "3.5.2"
  }
 },
 "nbformat": 4,
 "nbformat_minor": 2
}

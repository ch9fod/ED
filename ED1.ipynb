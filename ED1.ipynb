{
 "cells": [
  {
   "cell_type": "code",
   "execution_count": 1,
   "metadata": {
    "collapsed": true
   },
   "outputs": [],
   "source": [
    "from pyomo.environ import *\n",
    "import os\n",
    "model = AbstractModel()\n",
    "solverexe = \"gurobi\"\n",
    "dirsolver = r\"C:\\Users\\ch9fod\\Documents\\GitHub\\ED\\solvers\"\n",
    "datafile = \"data1.dat\""
   ]
  },
  {
   "cell_type": "code",
   "execution_count": 2,
   "metadata": {
    "collapsed": false
   },
   "outputs": [],
   "source": [
    "#set\n",
    "model.G = Set()"
   ]
  },
  {
   "cell_type": "code",
   "execution_count": 3,
   "metadata": {
    "collapsed": true
   },
   "outputs": [],
   "source": [
    "#parameters\n",
    "model.a = Param(model.G)\n",
    "model.b = Param(model.G)\n",
    "model.Pmin = Param(model.G)\n",
    "model.Pmax = Param(model.G)\n",
    "#added just to calculate emissions\n",
    "model.d = Param(model.G)\n",
    "model.e = Param(model.G)\n",
    "model.f = Param(model.G)\n",
    "#lone parameter\n",
    "model.D = Param()"
   ]
  },
  {
   "cell_type": "code",
   "execution_count": 4,
   "metadata": {
    "collapsed": true
   },
   "outputs": [],
   "source": [
    "#variables\n",
    "model.P = Var(model.G)"
   ]
  },
  {
   "cell_type": "code",
   "execution_count": 5,
   "metadata": {
    "collapsed": false
   },
   "outputs": [],
   "source": [
    "#constraints\n",
    "def maxp(model,i):\n",
    "    return model.P[i] <= model.Pmax[i]\n",
    "model.maxprod = Constraint(model.G, rule = maxp)\n",
    "\n",
    "def minp(model,i):\n",
    "    return model.P[i] >= model.Pmin[i]\n",
    "model.minprod = Constraint(model.G, rule = minp)\n",
    "\n",
    "def demand_r(model,i):\n",
    "    return model.D == sum(model.P[i] for i in model.G)\n",
    "model.demand = Constraint(model.G, rule = demand_r)"
   ]
  },
  {
   "cell_type": "code",
   "execution_count": 6,
   "metadata": {
    "collapsed": true
   },
   "outputs": [],
   "source": [
    "#objective\n",
    "def cost_rule(model):\n",
    "    return sum(model.a[i]*model.P[i] + \n",
    "               0.5*model.b[i]*model.P[i]**2 for i in model.G)\n",
    "#default is to minimize        \n",
    "model.OBJ = Objective(rule=cost_rule) "
   ]
  },
  {
   "cell_type": "code",
   "execution_count": 7,
   "metadata": {
    "collapsed": false
   },
   "outputs": [],
   "source": [
    "if solverexe == \"gurobi\":\n",
    "    solver = SolverFactory(solverexe)\n",
    "else:\n",
    "    solver = SolverFactory(solverexe, \n",
    "                           executable=os.path.join(dirsolver, solverexe))\n",
    "instance = model.create_instance(datafile)\n",
    "instance.dual = Suffix(direction=Suffix.IMPORT)\n",
    "results = solver.solve(instance)\n",
    "#instance.solutions.load_from(results)\n",
    "#print(results)"
   ]
  },
  {
   "cell_type": "code",
   "execution_count": 8,
   "metadata": {
    "collapsed": false
   },
   "outputs": [
    {
     "name": "stdout",
     "output_type": "stream",
     "text": [
      "Model unknown\n",
      "\n",
      "  Variables:\n",
      "    P : Size=3, Index=G\n",
      "        Key : Lower : Value         : Upper : Fixed : Stale : Domain\n",
      "          1 :  None : 399.999999999 :  None : False : False :  Reals\n",
      "          2 :  None : 169.999999997 :  None : False : False :  Reals\n",
      "          3 :  None : 30.0000000039 :  None : False : False :  Reals\n",
      "\n",
      "  Objectives:\n",
      "    OBJ : Size=1, Index=None, Active=True\n",
      "        Key  : Active : Value\n",
      "        None :   True : 18985.0000000134\n",
      "\n",
      "  Constraints:\n",
      "    maxprod : Size=3\n",
      "        Key : Lower : Body          : Upper\n",
      "          1 :  None : 399.999999999 : 400.0\n",
      "          2 :  None : 169.999999997 : 300.0\n",
      "          3 :  None : 30.0000000039 : 250.0\n",
      "    minprod : Size=3\n",
      "        Key : Lower : Body          : Upper\n",
      "          1 :  20.0 : 399.999999999 :  None\n",
      "          2 :  20.0 : 169.999999997 :  None\n",
      "          3 :  30.0 : 30.0000000039 :  None\n",
      "    demand : Size=3\n",
      "        Key : Lower : Body              : Upper\n",
      "          1 :   600 : 599.9999999999001 :   600\n",
      "          2 :   600 : 599.9999999999001 :   600\n",
      "          3 :   600 : 599.9999999999001 :   600\n"
     ]
    }
   ],
   "source": [
    "instance.display()"
   ]
  },
  {
   "cell_type": "code",
   "execution_count": 9,
   "metadata": {
    "collapsed": true
   },
   "outputs": [],
   "source": [
    "p = [0, 0, 0 ,0]\n",
    "for i in range(3):\n",
    "    p[i+1] = value(instance.P[i+1])"
   ]
  },
  {
   "cell_type": "code",
   "execution_count": 10,
   "metadata": {
    "collapsed": false
   },
   "outputs": [
    {
     "name": "stdout",
     "output_type": "stream",
     "text": [
      "Total Emissions (tonCO2/MWh)\n",
      "1 81899.999999792\n",
      "2 34588.9999993898\n",
      "3 3104.50000039117\n",
      "Total 119593.49999957297\n"
     ]
    }
   ],
   "source": [
    "print (\"Total Emissions (tonCO2/MWh)\")\n",
    "x = y = 0\n",
    "for i in range(3):\n",
    "    y = (instance.d[i+1] + instance.e[i+1]*p[i+1] + \n",
    "        instance.f[i+1]*p[i+1]**2)\n",
    "    x = x + y\n",
    "    print(i+1, y)\n",
    "print(\"Total\",x)"
   ]
  },
  {
   "cell_type": "code",
   "execution_count": 11,
   "metadata": {
    "collapsed": false
   },
   "outputs": [
    {
     "name": "stdout",
     "output_type": "stream",
     "text": [
      "Duals\n",
      "   Constraint maxprod\n",
      "       1 -1.9999999997\n",
      "       2 -0.0\n",
      "       3 -0.0\n",
      "   Constraint minprod\n",
      "       1 0.0\n",
      "       2 0.0\n",
      "       3 4.0000000011\n",
      "   Constraint demand\n",
      "       1 41.9999999997\n",
      "       2 -0.0\n",
      "       3 -0.0\n"
     ]
    }
   ],
   "source": [
    "print (\"Duals\")\n",
    "from pyomo.core import Constraint\n",
    "for c in instance.component_objects(Constraint, active=True):\n",
    "    print (\"   Constraint\",c)\n",
    "    cobject = getattr(instance, str(c))\n",
    "    for index in cobject:\n",
    "        print (\"      \", index, instance.dual[cobject[index]])"
   ]
  }
 ],
 "metadata": {
  "kernelspec": {
   "display_name": "Python 3",
   "language": "python",
   "name": "python3"
  },
  "language_info": {
   "codemirror_mode": {
    "name": "ipython",
    "version": 3
   },
   "file_extension": ".py",
   "mimetype": "text/x-python",
   "name": "python",
   "nbconvert_exporter": "python",
   "pygments_lexer": "ipython3",
   "version": "3.5.2"
  }
 },
 "nbformat": 4,
 "nbformat_minor": 2
}
